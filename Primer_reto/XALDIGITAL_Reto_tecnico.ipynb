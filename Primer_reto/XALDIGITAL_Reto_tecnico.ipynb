{
 "cells": [
  {
   "cell_type": "markdown",
   "metadata": {},
   "source": [
    "# Reto técnico\n",
    "\n",
    "## Instrucciones\n",
    "\n",
    "La siguiente prueba técnica constará de dos partes: una dedicada a la programación y otra enfocada en SQL.\n",
    "\n",
    "**Primer reto**\n",
    "\n",
    "Utiliza cualquier lenguaje de programación. Se prefieren Python o Node.js.\n",
    "\n",
    "- Implementa pruebas unitarias (opcional).\n",
    "\n",
    "Algunos aspectos que revisaremos del reto son:\n",
    "\n",
    "- Funcionamiento del software: revisaremos si la aplicación funciona según lo especificado en el reto.\n",
    "- Limpieza del código: esperamos que el código sea limpio, comprensible y mantenible.\n",
    "\n",
    "\n",
    "## Programación\n",
    "\n",
    "### 1.- Conectarse a la API"
   ]
  },
  {
   "cell_type": "code",
   "execution_count": 1,
   "metadata": {},
   "outputs": [
    {
     "name": "stdout",
     "output_type": "stream",
     "text": [
      "Conexión exitosa\n"
     ]
    }
   ],
   "source": [
    "#Importamos las librerias que vamos a ocupar\n",
    "import pandas as pd\n",
    "import requests\n",
    "import datetime\n",
    "\n",
    "# URL de la API\n",
    "url = 'https://api.stackexchange.com/2.2/search?order=desc&sort=activity&intitle=perl&site=stackoverflow'\n",
    "\n",
    "# Realizar la solicitud GET\n",
    "response = requests.get(url)\n",
    "\n",
    "# Verificar si la solicitud fue exitosa\n",
    "if response.status_code == 200:\n",
    "    print('Conexión exitosa')\n",
    "else:\n",
    "     print(f'Error: {response.status_code}')"
   ]
  },
  {
   "cell_type": "markdown",
   "metadata": {},
   "source": [
    "Para hacer el análisis es necesario convertir los datos de la solicitud en un DataFrame."
   ]
  },
  {
   "cell_type": "code",
   "execution_count": 2,
   "metadata": {},
   "outputs": [
    {
     "data": {
      "text/html": [
       "<div>\n",
       "<style scoped>\n",
       "    .dataframe tbody tr th:only-of-type {\n",
       "        vertical-align: middle;\n",
       "    }\n",
       "\n",
       "    .dataframe tbody tr th {\n",
       "        vertical-align: top;\n",
       "    }\n",
       "\n",
       "    .dataframe thead th {\n",
       "        text-align: right;\n",
       "    }\n",
       "</style>\n",
       "<table border=\"1\" class=\"dataframe\">\n",
       "  <thead>\n",
       "    <tr style=\"text-align: right;\">\n",
       "      <th></th>\n",
       "      <th>items</th>\n",
       "      <th>has_more</th>\n",
       "      <th>quota_max</th>\n",
       "      <th>quota_remaining</th>\n",
       "    </tr>\n",
       "  </thead>\n",
       "  <tbody>\n",
       "    <tr>\n",
       "      <th>0</th>\n",
       "      <td>{'tags': ['perl', 'visual-studio-code', 'modul...</td>\n",
       "      <td>True</td>\n",
       "      <td>300</td>\n",
       "      <td>281</td>\n",
       "    </tr>\n",
       "    <tr>\n",
       "      <th>1</th>\n",
       "      <td>{'tags': ['perl', 'perlguts'], 'owner': {'repu...</td>\n",
       "      <td>True</td>\n",
       "      <td>300</td>\n",
       "      <td>281</td>\n",
       "    </tr>\n",
       "    <tr>\n",
       "      <th>2</th>\n",
       "      <td>{'tags': ['perl', 'visual-studio-code', 'debug...</td>\n",
       "      <td>True</td>\n",
       "      <td>300</td>\n",
       "      <td>281</td>\n",
       "    </tr>\n",
       "    <tr>\n",
       "      <th>3</th>\n",
       "      <td>{'tags': ['perl', 'openssl'], 'owner': {'reput...</td>\n",
       "      <td>True</td>\n",
       "      <td>300</td>\n",
       "      <td>281</td>\n",
       "    </tr>\n",
       "    <tr>\n",
       "      <th>4</th>\n",
       "      <td>{'tags': ['windows', 'batch-file'], 'owner': {...</td>\n",
       "      <td>True</td>\n",
       "      <td>300</td>\n",
       "      <td>281</td>\n",
       "    </tr>\n",
       "  </tbody>\n",
       "</table>\n",
       "</div>"
      ],
      "text/plain": [
       "                                               items  has_more  quota_max  \\\n",
       "0  {'tags': ['perl', 'visual-studio-code', 'modul...      True        300   \n",
       "1  {'tags': ['perl', 'perlguts'], 'owner': {'repu...      True        300   \n",
       "2  {'tags': ['perl', 'visual-studio-code', 'debug...      True        300   \n",
       "3  {'tags': ['perl', 'openssl'], 'owner': {'reput...      True        300   \n",
       "4  {'tags': ['windows', 'batch-file'], 'owner': {...      True        300   \n",
       "\n",
       "   quota_remaining  \n",
       "0              281  \n",
       "1              281  \n",
       "2              281  \n",
       "3              281  \n",
       "4              281  "
      ]
     },
     "execution_count": 2,
     "metadata": {},
     "output_type": "execute_result"
    }
   ],
   "source": [
    "#Convertimos los datos recibidos en un DataFrame\n",
    "data = response.json()\n",
    "respuestas = pd.DataFrame(data)\n",
    "respuestas.head()"
   ]
  },
  {
   "cell_type": "markdown",
   "metadata": {},
   "source": [
    "Vamos a expandir el diccionario contenido en la columna 'items'. Esto nos permitirá utilizar las claves del diccionario como nombres de columnas, y los valores asociados se colocarán en las filas correspondientes."
   ]
  },
  {
   "cell_type": "code",
   "execution_count": 3,
   "metadata": {},
   "outputs": [
    {
     "data": {
      "text/html": [
       "<div>\n",
       "<style scoped>\n",
       "    .dataframe tbody tr th:only-of-type {\n",
       "        vertical-align: middle;\n",
       "    }\n",
       "\n",
       "    .dataframe tbody tr th {\n",
       "        vertical-align: top;\n",
       "    }\n",
       "\n",
       "    .dataframe thead th {\n",
       "        text-align: right;\n",
       "    }\n",
       "</style>\n",
       "<table border=\"1\" class=\"dataframe\">\n",
       "  <thead>\n",
       "    <tr style=\"text-align: right;\">\n",
       "      <th></th>\n",
       "      <th>tags</th>\n",
       "      <th>is_answered</th>\n",
       "      <th>view_count</th>\n",
       "      <th>answer_count</th>\n",
       "      <th>score</th>\n",
       "      <th>last_activity_date</th>\n",
       "      <th>creation_date</th>\n",
       "      <th>last_edit_date</th>\n",
       "      <th>question_id</th>\n",
       "      <th>content_license</th>\n",
       "      <th>...</th>\n",
       "      <th>owner.user_id</th>\n",
       "      <th>owner.user_type</th>\n",
       "      <th>owner.profile_image</th>\n",
       "      <th>owner.display_name</th>\n",
       "      <th>owner.link</th>\n",
       "      <th>closed_date</th>\n",
       "      <th>closed_reason</th>\n",
       "      <th>owner.accept_rate</th>\n",
       "      <th>accepted_answer_id</th>\n",
       "      <th>protected_date</th>\n",
       "    </tr>\n",
       "  </thead>\n",
       "  <tbody>\n",
       "    <tr>\n",
       "      <th>0</th>\n",
       "      <td>[perl, visual-studio-code, module, windows-10,...</td>\n",
       "      <td>True</td>\n",
       "      <td>2210</td>\n",
       "      <td>2</td>\n",
       "      <td>2</td>\n",
       "      <td>1712424392</td>\n",
       "      <td>1624108164</td>\n",
       "      <td>1.624123e+09</td>\n",
       "      <td>68047087</td>\n",
       "      <td>CC BY-SA 4.0</td>\n",
       "      <td>...</td>\n",
       "      <td>15309170</td>\n",
       "      <td>registered</td>\n",
       "      <td>https://i.stack.imgur.com/yJylN.jpg?s=256&amp;g=1</td>\n",
       "      <td>Rafael Moreira</td>\n",
       "      <td>https://stackoverflow.com/users/15309170/rafae...</td>\n",
       "      <td>NaN</td>\n",
       "      <td>NaN</td>\n",
       "      <td>NaN</td>\n",
       "      <td>NaN</td>\n",
       "      <td>NaN</td>\n",
       "    </tr>\n",
       "    <tr>\n",
       "      <th>1</th>\n",
       "      <td>[perl, perlguts]</td>\n",
       "      <td>False</td>\n",
       "      <td>50</td>\n",
       "      <td>0</td>\n",
       "      <td>3</td>\n",
       "      <td>1712361953</td>\n",
       "      <td>1712351131</td>\n",
       "      <td>1.712362e+09</td>\n",
       "      <td>78282349</td>\n",
       "      <td>CC BY-SA 4.0</td>\n",
       "      <td>...</td>\n",
       "      <td>12283863</td>\n",
       "      <td>registered</td>\n",
       "      <td>https://i.stack.imgur.com/sNtbo.png?s=256&amp;g=1</td>\n",
       "      <td>Rawley Fowler</td>\n",
       "      <td>https://stackoverflow.com/users/12283863/rawle...</td>\n",
       "      <td>NaN</td>\n",
       "      <td>NaN</td>\n",
       "      <td>NaN</td>\n",
       "      <td>NaN</td>\n",
       "      <td>NaN</td>\n",
       "    </tr>\n",
       "    <tr>\n",
       "      <th>2</th>\n",
       "      <td>[perl, visual-studio-code, debugging, vscode-d...</td>\n",
       "      <td>False</td>\n",
       "      <td>44</td>\n",
       "      <td>0</td>\n",
       "      <td>1</td>\n",
       "      <td>1712306349</td>\n",
       "      <td>1712303165</td>\n",
       "      <td>1.712306e+09</td>\n",
       "      <td>78278459</td>\n",
       "      <td>NaN</td>\n",
       "      <td>...</td>\n",
       "      <td>4316166</td>\n",
       "      <td>registered</td>\n",
       "      <td>https://i.stack.imgur.com/jszIp.jpg?s=256&amp;g=1</td>\n",
       "      <td>kos</td>\n",
       "      <td>https://stackoverflow.com/users/4316166/kos</td>\n",
       "      <td>1.712327e+09</td>\n",
       "      <td>Duplicate</td>\n",
       "      <td>50.0</td>\n",
       "      <td>NaN</td>\n",
       "      <td>NaN</td>\n",
       "    </tr>\n",
       "    <tr>\n",
       "      <th>3</th>\n",
       "      <td>[perl, openssl]</td>\n",
       "      <td>True</td>\n",
       "      <td>58</td>\n",
       "      <td>1</td>\n",
       "      <td>0</td>\n",
       "      <td>1712246288</td>\n",
       "      <td>1712224152</td>\n",
       "      <td>NaN</td>\n",
       "      <td>78273013</td>\n",
       "      <td>CC BY-SA 4.0</td>\n",
       "      <td>...</td>\n",
       "      <td>24004419</td>\n",
       "      <td>registered</td>\n",
       "      <td>https://www.gravatar.com/avatar/aaac97d452b685...</td>\n",
       "      <td>Henry Law</td>\n",
       "      <td>https://stackoverflow.com/users/24004419/henry...</td>\n",
       "      <td>NaN</td>\n",
       "      <td>NaN</td>\n",
       "      <td>NaN</td>\n",
       "      <td>78275067.0</td>\n",
       "      <td>NaN</td>\n",
       "    </tr>\n",
       "    <tr>\n",
       "      <th>4</th>\n",
       "      <td>[windows, batch-file]</td>\n",
       "      <td>True</td>\n",
       "      <td>60</td>\n",
       "      <td>1</td>\n",
       "      <td>0</td>\n",
       "      <td>1712245107</td>\n",
       "      <td>1712201654</td>\n",
       "      <td>1.712234e+09</td>\n",
       "      <td>78271530</td>\n",
       "      <td>CC BY-SA 4.0</td>\n",
       "      <td>...</td>\n",
       "      <td>14001914</td>\n",
       "      <td>registered</td>\n",
       "      <td>https://www.gravatar.com/avatar/d8bd35b00c7593...</td>\n",
       "      <td>mak</td>\n",
       "      <td>https://stackoverflow.com/users/14001914/mak</td>\n",
       "      <td>NaN</td>\n",
       "      <td>NaN</td>\n",
       "      <td>NaN</td>\n",
       "      <td>78271822.0</td>\n",
       "      <td>NaN</td>\n",
       "    </tr>\n",
       "  </tbody>\n",
       "</table>\n",
       "<p>5 rows × 23 columns</p>\n",
       "</div>"
      ],
      "text/plain": [
       "                                                tags  is_answered  view_count  \\\n",
       "0  [perl, visual-studio-code, module, windows-10,...         True        2210   \n",
       "1                                   [perl, perlguts]        False          50   \n",
       "2  [perl, visual-studio-code, debugging, vscode-d...        False          44   \n",
       "3                                    [perl, openssl]         True          58   \n",
       "4                              [windows, batch-file]         True          60   \n",
       "\n",
       "   answer_count  score  last_activity_date  creation_date  last_edit_date  \\\n",
       "0             2      2          1712424392     1624108164    1.624123e+09   \n",
       "1             0      3          1712361953     1712351131    1.712362e+09   \n",
       "2             0      1          1712306349     1712303165    1.712306e+09   \n",
       "3             1      0          1712246288     1712224152             NaN   \n",
       "4             1      0          1712245107     1712201654    1.712234e+09   \n",
       "\n",
       "   question_id content_license  ... owner.user_id owner.user_type  \\\n",
       "0     68047087    CC BY-SA 4.0  ...      15309170      registered   \n",
       "1     78282349    CC BY-SA 4.0  ...      12283863      registered   \n",
       "2     78278459             NaN  ...       4316166      registered   \n",
       "3     78273013    CC BY-SA 4.0  ...      24004419      registered   \n",
       "4     78271530    CC BY-SA 4.0  ...      14001914      registered   \n",
       "\n",
       "                                 owner.profile_image  owner.display_name  \\\n",
       "0      https://i.stack.imgur.com/yJylN.jpg?s=256&g=1      Rafael Moreira   \n",
       "1      https://i.stack.imgur.com/sNtbo.png?s=256&g=1       Rawley Fowler   \n",
       "2      https://i.stack.imgur.com/jszIp.jpg?s=256&g=1                 kos   \n",
       "3  https://www.gravatar.com/avatar/aaac97d452b685...           Henry Law   \n",
       "4  https://www.gravatar.com/avatar/d8bd35b00c7593...                 mak   \n",
       "\n",
       "                                          owner.link   closed_date  \\\n",
       "0  https://stackoverflow.com/users/15309170/rafae...           NaN   \n",
       "1  https://stackoverflow.com/users/12283863/rawle...           NaN   \n",
       "2        https://stackoverflow.com/users/4316166/kos  1.712327e+09   \n",
       "3  https://stackoverflow.com/users/24004419/henry...           NaN   \n",
       "4       https://stackoverflow.com/users/14001914/mak           NaN   \n",
       "\n",
       "  closed_reason owner.accept_rate  accepted_answer_id protected_date  \n",
       "0           NaN               NaN                 NaN            NaN  \n",
       "1           NaN               NaN                 NaN            NaN  \n",
       "2     Duplicate              50.0                 NaN            NaN  \n",
       "3           NaN               NaN          78275067.0            NaN  \n",
       "4           NaN               NaN          78271822.0            NaN  \n",
       "\n",
       "[5 rows x 23 columns]"
      ]
     },
     "execution_count": 3,
     "metadata": {},
     "output_type": "execute_result"
    }
   ],
   "source": [
    "respuestas = pd.json_normalize(respuestas['items'])\n",
    "respuestas.head()"
   ]
  },
  {
   "cell_type": "markdown",
   "metadata": {},
   "source": [
    "### 2. Obtener el número de respuestas contestadas y no contestadas"
   ]
  },
  {
   "cell_type": "code",
   "execution_count": 4,
   "metadata": {},
   "outputs": [
    {
     "data": {
      "text/plain": [
       "is_answered\n",
       "True     19\n",
       "False    11\n",
       "Name: count, dtype: int64"
      ]
     },
     "execution_count": 4,
     "metadata": {},
     "output_type": "execute_result"
    }
   ],
   "source": [
    "respuestas['is_answered'].value_counts()"
   ]
  },
  {
   "cell_type": "code",
   "execution_count": 5,
   "metadata": {},
   "outputs": [],
   "source": [
    "respuestas_contestadas = respuestas['is_answered'].value_counts()[0]\n",
    "respuestas_no_contestadas = respuestas['is_answered'].value_counts()[1]"
   ]
  },
  {
   "cell_type": "markdown",
   "metadata": {},
   "source": [
    "### 3. Obtener la respuesta con menor número de vistas\n"
   ]
  },
  {
   "cell_type": "code",
   "execution_count": 6,
   "metadata": {},
   "outputs": [],
   "source": [
    "menor_vistas = respuestas['view_count'].min()\n",
    "respuesta_menor_vistas = respuestas[respuestas['view_count']==menor_vistas]\n"
   ]
  },
  {
   "cell_type": "markdown",
   "metadata": {},
   "source": [
    "### 4. Obtener la respuesta más vieja y más actual"
   ]
  },
  {
   "cell_type": "code",
   "execution_count": 7,
   "metadata": {},
   "outputs": [],
   "source": [
    "#Obtenemos la fecha más vieja\n",
    "fecha_mas_vieja = respuestas['creation_date'].min()\n",
    "#Obtenemos la fecha más actual\n",
    "fecha_mas_actual = respuestas['creation_date'].max()\n",
    "\n",
    "#convertimos a formato UNIX a uno legible\n",
    "fecha_mas_vieja_legible = datetime.datetime.fromtimestamp(fecha_mas_vieja).strftime('%Y-%m-%d')\n",
    "fecha_mas_actual_legible = datetime.datetime.fromtimestamp(fecha_mas_actual).strftime('%Y-%m-%d')\n",
    "\n",
    "#Aplicamos máscara para filtrar la respuesta\n",
    "\n",
    "respuesta_mas_vieja = respuestas[respuestas['creation_date']==fecha_mas_vieja]\n",
    "respuesta_mas_actual = respuestas[respuestas['creation_date']==fecha_mas_actual]\n"
   ]
  },
  {
   "cell_type": "markdown",
   "metadata": {},
   "source": [
    "### 5. Obtener la respuesta del owner que tenga una mayor reputación"
   ]
  },
  {
   "cell_type": "code",
   "execution_count": 8,
   "metadata": {},
   "outputs": [],
   "source": [
    "owner_mayor_reputacion=respuestas['owner.reputation'].max()\n",
    "respuesta_owner_mayor_reputacion= respuestas[respuestas['owner.reputation']==owner_mayor_reputacion]"
   ]
  },
  {
   "cell_type": "markdown",
   "metadata": {},
   "source": [
    "### 6. Imprimir en consola del punto 2 al 5"
   ]
  },
  {
   "cell_type": "code",
   "execution_count": 9,
   "metadata": {},
   "outputs": [
    {
     "name": "stdout",
     "output_type": "stream",
     "text": [
      "Respuestas del punto 2\n",
      "\n",
      "El número de respuestas contestadas es 19\n",
      "El número de respuestas no contestadas es 11\n",
      "\n",
      "Respuesta del punto 3\n",
      "\n",
      "La respuesta con menor número de vistas es:\n",
      "\n",
      "19    Webmin CentOS7 AWS backup errors - perl(S3::AW...\n",
      "Name: title, dtype: object\n",
      "\n",
      "Respuestas del punto 4\n",
      "\n",
      "La respuesta más vieja se hizo el 2008-09-23 y es:\n",
      "\n",
      "13    Comparison of Python and Perl solutions to Wid...\n",
      "Name: title, dtype: object\n",
      "\n",
      "La respuesta más actual se hizo el 2024-04-05 y es:\n",
      "\n",
      "1    How to count the number of memory allocations ...\n",
      "Name: title, dtype: object\n",
      "\n",
      "Respuesta del punto 5\n",
      "\n",
      "La respuesta del owner con la mayor reputación es:\n",
      "\n",
      "13    Comparison of Python and Perl solutions to Wid...\n",
      "Name: title, dtype: object\n",
      "\n"
     ]
    }
   ],
   "source": [
    "# Respuestas del punto 2\n",
    "print(f'Respuestas del punto 2\\n')\n",
    "print(f'El número de respuestas contestadas es {respuestas_contestadas}')\n",
    "print(f'El número de respuestas no contestadas es {respuestas_no_contestadas}\\n')\n",
    "\n",
    "# Respuesta del punto 3\n",
    "print('Respuesta del punto 3\\n')\n",
    "print('La respuesta con menor número de vistas es:\\n')\n",
    "print(f'{respuesta_menor_vistas[\"title\"]}\\n')\n",
    "\n",
    "# Respuestas del punto 4\n",
    "print('Respuestas del punto 4\\n')\n",
    "print(f'La respuesta más vieja se hizo el {fecha_mas_vieja_legible} y es:\\n')\n",
    "print(f'{respuesta_mas_vieja[\"title\"]}\\n')\n",
    "print(f'La respuesta más actual se hizo el {fecha_mas_actual_legible} y es:\\n')\n",
    "print(f'{respuesta_mas_actual[\"title\"]}\\n')\n",
    "\n",
    "# Respuesta del punto 5\n",
    "print('Respuesta del punto 5\\n')\n",
    "print('La respuesta del owner con la mayor reputación es:\\n')\n",
    "print(f'{respuesta_owner_mayor_reputacion[\"title\"]}\\n')\n"
   ]
  }
 ],
 "metadata": {
  "kernelspec": {
   "display_name": "Python 3",
   "language": "python",
   "name": "python3"
  },
  "language_info": {
   "codemirror_mode": {
    "name": "ipython",
    "version": 3
   },
   "file_extension": ".py",
   "mimetype": "text/x-python",
   "name": "python",
   "nbconvert_exporter": "python",
   "pygments_lexer": "ipython3",
   "version": "3.11.9"
  }
 },
 "nbformat": 4,
 "nbformat_minor": 2
}
